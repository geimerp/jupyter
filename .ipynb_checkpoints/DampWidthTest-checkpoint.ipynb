{
 "cells": [
  {
   "cell_type": "code",
   "execution_count": 11,
   "metadata": {},
   "outputs": [
    {
     "data": {
      "application/vnd.jupyter.widget-view+json": {
       "model_id": "9aaf68e12b754127a022658632b343aa",
       "version_major": 2,
       "version_minor": 0
      },
      "text/html": [
       "<p>Failed to display Jupyter Widget of type <code>interactive</code>.</p>\n",
       "<p>\n",
       "  If you're reading this message in the Jupyter Notebook or JupyterLab Notebook, it may mean\n",
       "  that the widgets JavaScript is still loading. If this message persists, it\n",
       "  likely means that the widgets JavaScript library is either not installed or\n",
       "  not enabled. See the <a href=\"https://ipywidgets.readthedocs.io/en/stable/user_install.html\">Jupyter\n",
       "  Widgets Documentation</a> for setup instructions.\n",
       "</p>\n",
       "<p>\n",
       "  If you're reading this message in another frontend (for example, a static\n",
       "  rendering on GitHub or <a href=\"https://nbviewer.jupyter.org/\">NBViewer</a>),\n",
       "  it may mean that your frontend doesn't currently support widgets.\n",
       "</p>\n"
      ],
      "text/plain": [
       "interactive(children=(FloatSlider(value=100.0, continuous_update=False, description='sig_len', max=400.0, min=20.0, step=20.0), FloatSlider(value=200.0, continuous_update=False, description='fs', max=500.0, min=50.0, step=50.0), FloatSlider(value=5.0, continuous_update=False, description='f0', max=30.0, min=1.0, step=1.0), FloatSlider(value=5.0, continuous_update=False, description='max_damp', max=20.0, min=5.0, step=5.0), FloatSlider(value=1.0, continuous_update=False, description='damp_step', max=5.0, min=1.0, step=1.0), Output()), _dom_classes=('widget-interact',))"
      ]
     },
     "metadata": {},
     "output_type": "display_data"
    },
    {
     "data": {
      "text/plain": [
       "<function __main__.f>"
      ]
     },
     "execution_count": 11,
     "metadata": {},
     "output_type": "execute_result"
    }
   ],
   "source": [
    "from ipywidgets import interact, interactive, fixed, interact_manual\n",
    "import ipywidgets as widgets\n",
    "from ipywidgets import FloatSlider\n",
    "import math\n",
    "import numpy as np\n",
    "import matplotlib.pyplot as plt\n",
    "\n",
    "def f(sig_len=100,fs=200,f0=5,max_damp=6,damp_step=1):\n",
    "    fig1 = plt.figure(figsize=[15,10])\n",
    "    ax1 = plt.subplot(311)\n",
    "    ax2 = plt.subplot(312)\n",
    "    ax3 = plt.subplot(313)\n",
    "    damping_values = np.arange(1,max_damp,damp_step)/100\n",
    "    \n",
    "    for zeta in damping_values:\n",
    "        \"\"\"Figure 1 - Damped time series amplitude (% of critical damping)\"\"\"\n",
    "        fn = f0\n",
    "        fnd = fn*np.sqrt(1-zeta**2)\n",
    "        t = np.arange(0,sig_len,1/fs)\n",
    "        y = np.e**(-zeta*fnd*t)*(np.cos(2*np.pi*fnd*t))\n",
    "        ax1.plot(t,y,label = str(round(zeta*100))+'%')\n",
    "        ax1.legend(loc=1)\n",
    "        ax1.set_title('Input Damped Time Series')\n",
    "        ax1.set_xlabel('Time (s)')\n",
    "        ax1.set_ylabel('Amplitude')\n",
    "        ax1.set_xlim([0,int(math.ceil(1/f0*60 / 10.0))*10])\n",
    "\n",
    "        \"\"\"Figure 2 - FFT of Fig. 1 time series - plotted as normalized power\"\"\"\n",
    "        Y = np.fft.fft(y)\n",
    "        L = sig_len*fs\n",
    "        P1 = abs(Y/L)[1:int(L/2+1)]\n",
    "        P1[2:-2] = 2*P1[2:-2]\n",
    "        f = fs*np.arange(0,(L/2))/L\n",
    "        P1 = np.interp(P1, (P1.min(), P1.max()), (0, 1)) # normalizing\n",
    "        ax2.plot(f,P1**2)\n",
    "        if f0 < 4:\n",
    "            ax2.set_xlim([0,2*f0])\n",
    "        else:\n",
    "            ax2.set_xlim([f0-4,f0+4])\n",
    "        ax2.set_title('FFT')\n",
    "        ax2.set_xlabel('Freq (Hz)')\n",
    "        ax2.set_ylabel('Normalized Power')\n",
    "\n",
    "        \"\"\"Figure 3 - Recovered time series using IFFT\"\"\"\n",
    "        s = np.fft.ifft(Y)\n",
    "        t = np.arange(len(s))/fs\n",
    "\n",
    "        ax3.plot(t,s.real,t,s.imag, 'r--')\n",
    "        ax3.set_title('Recovered Time Series')\n",
    "        ax3.set_xlabel('Time (s)')\n",
    "        ax3.set_ylabel('Amplitude')\n",
    "        ax3.set_xlim([0,int(math.ceil(1/f0*60 / 10.0))*10])\n",
    "        ax3.legend(('real', 'imaginary'))\n",
    "    plt.tight_layout()\n",
    "    plt.show()\n",
    "interact(f,\n",
    "     sig_len=FloatSlider(value=100,min=20,max=400,step=20,continuous_update=False),\n",
    "     fs=FloatSlider(value=200,min=50,max=500,step=50,continuous_update=False),\n",
    "     f0=FloatSlider(value=5,min=1,max=30,step=1,continuous_update=False),\n",
    "     max_damp=FloatSlider(value=5,min=5,max=20,step=5,continuous_update=False),\n",
    "     damp_step=FloatSlider(value=1,min=1,max=5,step=1,continuous_update=False))\n",
    "\n",
    "\n",
    " "
   ]
  },
  {
   "cell_type": "code",
   "execution_count": null,
   "metadata": {},
   "outputs": [],
   "source": []
  }
 ],
 "metadata": {
  "kernelspec": {
   "display_name": "Python 3",
   "language": "python",
   "name": "python3"
  },
  "language_info": {
   "codemirror_mode": {
    "name": "ipython",
    "version": 3
   },
   "file_extension": ".py",
   "mimetype": "text/x-python",
   "name": "python",
   "nbconvert_exporter": "python",
   "pygments_lexer": "ipython3",
   "version": "3.6.4"
  },
  "widgets": {
   "application/vnd.jupyter.widget-state+json": {
    "state": {},
    "version_major": 2,
    "version_minor": 0
   }
  }
 },
 "nbformat": 4,
 "nbformat_minor": 2
}
